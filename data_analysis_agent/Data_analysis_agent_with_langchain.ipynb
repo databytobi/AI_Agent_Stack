{
  "nbformat": 4,
  "nbformat_minor": 0,
  "metadata": {
    "colab": {
      "provenance": []
    },
    "kernelspec": {
      "name": "python3",
      "display_name": "Python 3"
    },
    "language_info": {
      "name": "python"
    }
  },
  "cells": [
    {
      "cell_type": "code",
      "execution_count": 1,
      "metadata": {
        "colab": {
          "base_uri": "https://localhost:8080/"
        },
        "id": "dzb7VtdYWoNf",
        "outputId": "ee65e4b0-9af4-4ef4-d21e-9d28681b0471"
      },
      "outputs": [
        {
          "output_type": "stream",
          "name": "stdout",
          "text": [
            "\u001b[?25l   \u001b[90m━━━━━━━━━━━━━━━━━━━━━━━━━━━━━━━━━━━━━━━━\u001b[0m \u001b[32m0.0/209.2 kB\u001b[0m \u001b[31m?\u001b[0m eta \u001b[36m-:--:--\u001b[0m\r\u001b[2K   \u001b[90m━━━━━━━━━━━━━━━━━━━━━━━━━━━━━━━━━━━━━━━━\u001b[0m \u001b[32m209.2/209.2 kB\u001b[0m \u001b[31m7.3 MB/s\u001b[0m eta \u001b[36m0:00:00\u001b[0m\n",
            "\u001b[?25h\u001b[?25l   \u001b[90m━━━━━━━━━━━━━━━━━━━━━━━━━━━━━━━━━━━━━━━━\u001b[0m \u001b[32m0.0/49.4 kB\u001b[0m \u001b[31m?\u001b[0m eta \u001b[36m-:--:--\u001b[0m\r\u001b[2K   \u001b[90m━━━━━━━━━━━━━━━━━━━━━━━━━━━━━━━━━━━━━━━━\u001b[0m \u001b[32m49.4/49.4 kB\u001b[0m \u001b[31m2.6 MB/s\u001b[0m eta \u001b[36m0:00:00\u001b[0m\n",
            "\u001b[?25h\u001b[?25l   \u001b[90m━━━━━━━━━━━━━━━━━━━━━━━━━━━━━━━━━━━━━━━━\u001b[0m \u001b[32m0.0/1.4 MB\u001b[0m \u001b[31m?\u001b[0m eta \u001b[36m-:--:--\u001b[0m\r\u001b[2K   \u001b[91m━━━━━━━━━━━━━━━━━━━━━━━━━━━━━━━━━━━━━━━\u001b[0m\u001b[91m╸\u001b[0m \u001b[32m1.4/1.4 MB\u001b[0m \u001b[31m76.8 MB/s\u001b[0m eta \u001b[36m0:00:01\u001b[0m\r\u001b[2K   \u001b[90m━━━━━━━━━━━━━━━━━━━━━━━━━━━━━━━━━━━━━━━━\u001b[0m \u001b[32m1.4/1.4 MB\u001b[0m \u001b[31m33.1 MB/s\u001b[0m eta \u001b[36m0:00:00\u001b[0m\n",
            "\u001b[2K   \u001b[90m━━━━━━━━━━━━━━━━━━━━━━━━━━━━━━━━━━━━━━━━\u001b[0m \u001b[32m831.9/831.9 kB\u001b[0m \u001b[31m25.7 MB/s\u001b[0m eta \u001b[36m0:00:00\u001b[0m\n",
            "\u001b[2K   \u001b[90m━━━━━━━━━━━━━━━━━━━━━━━━━━━━━━━━━━━━━━━━\u001b[0m \u001b[32m2.5/2.5 MB\u001b[0m \u001b[31m32.3 MB/s\u001b[0m eta \u001b[36m0:00:00\u001b[0m\n",
            "\u001b[2K   \u001b[90m━━━━━━━━━━━━━━━━━━━━━━━━━━━━━━━━━━━━━━━━\u001b[0m \u001b[32m76.5/76.5 kB\u001b[0m \u001b[31m4.1 MB/s\u001b[0m eta \u001b[36m0:00:00\u001b[0m\n",
            "\u001b[2K   \u001b[90m━━━━━━━━━━━━━━━━━━━━━━━━━━━━━━━━━━━━━━━━\u001b[0m \u001b[32m1.7/1.7 MB\u001b[0m \u001b[31m41.3 MB/s\u001b[0m eta \u001b[36m0:00:00\u001b[0m\n",
            "\u001b[2K   \u001b[90m━━━━━━━━━━━━━━━━━━━━━━━━━━━━━━━━━━━━━━━━\u001b[0m \u001b[32m1.6/1.6 MB\u001b[0m \u001b[31m34.4 MB/s\u001b[0m eta \u001b[36m0:00:00\u001b[0m\n",
            "\u001b[2K   \u001b[90m━━━━━━━━━━━━━━━━━━━━━━━━━━━━━━━━━━━━━━━━\u001b[0m \u001b[32m45.2/45.2 kB\u001b[0m \u001b[31m3.1 MB/s\u001b[0m eta \u001b[36m0:00:00\u001b[0m\n",
            "\u001b[2K   \u001b[90m━━━━━━━━━━━━━━━━━━━━━━━━━━━━━━━━━━━━━━━━\u001b[0m \u001b[32m85.4/85.4 kB\u001b[0m \u001b[31m4.8 MB/s\u001b[0m eta \u001b[36m0:00:00\u001b[0m\n",
            "\u001b[2K   \u001b[90m━━━━━━━━━━━━━━━━━━━━━━━━━━━━━━━━━━━━━━━━\u001b[0m \u001b[32m50.9/50.9 kB\u001b[0m \u001b[31m3.1 MB/s\u001b[0m eta \u001b[36m0:00:00\u001b[0m\n",
            "\u001b[?25h\u001b[31mERROR: pip's dependency resolver does not currently take into account all the packages that are installed. This behaviour is the source of the following dependency conflicts.\n",
            "google-colab 1.0.0 requires ipython==7.34.0, but you have ipython 8.37.0 which is incompatible.\n",
            "google-generativeai 0.8.5 requires google-ai-generativelanguage==0.6.15, but you have google-ai-generativelanguage 0.6.18 which is incompatible.\u001b[0m\u001b[31m\n",
            "\u001b[0m"
          ]
        }
      ],
      "source": [
        " %pip install -q langchain langchain_experimental genai python-dotenv langchain_google_genai"
      ]
    },
    {
      "cell_type": "code",
      "source": [
        "import os\n",
        "from langchain_experimental.agents.agent_toolkits import create_pandas_dataframe_agent\n",
        "from langchain.agents import AgentType\n",
        "from langchain_google_genai import ChatGoogleGenerativeAI\n",
        "import pandas as pd\n",
        "import numpy as np\n",
        "from datetime import datetime, timedelta\n",
        "\n",
        "# Load environment variables\n",
        "from dotenv import load_dotenv\n",
        "import os\n",
        "\n",
        "# Load environment variables and set OpenAI API key\n",
        "load_dotenv()\n",
        "os.environ[\"GOOGLE_API_KEY\"] = os.getenv('GOOGLE_API_KEY')\n",
        "\n",
        "# Set a random seed for reproducibility\n",
        "np.random.seed(360)"
      ],
      "metadata": {
        "id": "LHnOiLaQXEkp"
      },
      "execution_count": 5,
      "outputs": []
    },
    {
      "cell_type": "markdown",
      "source": [
        "Generate Sample Data\n",
        "In this section, we create a sample dataset of products. This includes generating dates,  makes, products, colors, and other relevant information."
      ],
      "metadata": {
        "id": "mi4AjJZQZ0w2"
      }
    },
    {
      "cell_type": "code",
      "source": [
        "#Generate sample data\n",
        "n_rows = 1000\n",
        "\n",
        "# Generate dates\n",
        "start_date = datetime(2022, 1, 1)\n",
        "dates = [start_date + timedelta(days=i) for i in range(n_rows)]\n",
        "\n",
        "# Define data categories\n",
        "makes = ['Nike', 'Samsung', 'Apple', 'Sony', 'LG', 'Adidas', 'Dell', 'Panasonic', 'Puma', 'HP']\n",
        "Product = ['Running Shoes', 'Smart TV', 'iPhone 15', 'Bluetooth Speaker', 'Sweatshirt', 'Laptop', 'Headphones', 'Tablet', 'Camera', 'Printer']\n",
        "colors = ['Red', 'Blue', 'Black', 'White', 'Silver', 'Gray', 'Green']\n",
        "\n",
        "# Create the dataset\n",
        "data = {\n",
        "    'Date': dates,\n",
        "    'Make': np.random.choice(makes, n_rows),\n",
        "    'Model': np.random.choice(Product, n_rows),\n",
        "    'Color': np.random.choice(colors, n_rows),\n",
        "    'Year': np.random.randint(2013, 2025, n_rows),\n",
        "    'price': np.random.uniform(200, 8000, n_rows).round(2),\n",
        "    'Quantity': np.random.randint(1, 10, n_rows),\n",
        "    'SalesPerson': np.random.choice(['Alice', 'Bob', 'King', 'David', 'Tobi'], n_rows)\n",
        "}\n",
        "\n",
        "# Create DataFrame and sort by date\n",
        "df = pd.DataFrame(data).sort_values('Date')\n",
        "\n",
        "# Add a 'Category' column\n",
        "# Categories mapped to the Product list\n",
        "product_categories = {\n",
        "    'Running Shoes': 'Apparel',\n",
        "    'Smart TV': 'Electronics',\n",
        "    'iPhone 15': 'Electronics',\n",
        "    'Bluetooth Speaker': 'Electronics',\n",
        "    'Sweatshirt': 'Apparel',\n",
        "    'Laptop': 'Electronics',\n",
        "    'Headphones': 'Electronics',\n",
        "    'Tablet': 'Electronics',\n",
        "    'Camera': 'Electronics',\n",
        "    'Printer': 'Electronics'\n",
        "}\n",
        "\n",
        "df['Category'] = df['Model'].map(product_categories)\n",
        "\n",
        "# Add 'Payment Method' column\n",
        "payment_methods = ['Credit Card', 'Cash', 'Online Payment', 'Debit Card']\n",
        "df['Payment Method'] = np.random.choice(payment_methods, n_rows)\n",
        "\n",
        "# Add 'Region' column\n",
        "regions = ['North', 'South', 'East', 'West', 'Central']\n",
        "df['Region'] = np.random.choice(regions, n_rows)\n",
        "\n",
        "\n",
        "# Display sample data and statistics\n",
        "print(\"\\nFirst few rows of the generated data:\")\n",
        "print(df.head())\n",
        "\n",
        "print(\"\\nDataFrame info:\")\n",
        "df.info()\n",
        "\n",
        "print(\"\\nSummary statistics:\")\n",
        "print(df.describe())"
      ],
      "metadata": {
        "colab": {
          "base_uri": "https://localhost:8080/"
        },
        "id": "YmDnBxqmZJ2E",
        "outputId": "a652f401-ea7e-4957-9b8d-6bb485467a67"
      },
      "execution_count": 20,
      "outputs": [
        {
          "output_type": "stream",
          "name": "stdout",
          "text": [
            "\n",
            "First few rows of the generated data:\n",
            "        Date   Make              Model   Color  Year    price  Quantity  \\\n",
            "0 2022-01-01     LG             Tablet  Silver  2014  2534.30         8   \n",
            "1 2022-01-02   Dell          iPhone 15    Blue  2024  5583.96         4   \n",
            "2 2022-01-03  Apple         Headphones   White  2017  6152.74         8   \n",
            "3 2022-01-04  Apple  Bluetooth Speaker   White  2023  3213.19         6   \n",
            "4 2022-01-05     HP            Printer    Blue  2016  4696.43         3   \n",
            "\n",
            "  SalesPerson     Category Payment Method   Region  \n",
            "0         Bob  Electronics     Debit Card     West  \n",
            "1        King  Electronics     Debit Card  Central  \n",
            "2        Tobi  Electronics     Debit Card    South  \n",
            "3       David  Electronics     Debit Card  Central  \n",
            "4         Bob  Electronics           Cash     West  \n",
            "\n",
            "DataFrame info:\n",
            "<class 'pandas.core.frame.DataFrame'>\n",
            "RangeIndex: 1000 entries, 0 to 999\n",
            "Data columns (total 11 columns):\n",
            " #   Column          Non-Null Count  Dtype         \n",
            "---  ------          --------------  -----         \n",
            " 0   Date            1000 non-null   datetime64[ns]\n",
            " 1   Make            1000 non-null   object        \n",
            " 2   Model           1000 non-null   object        \n",
            " 3   Color           1000 non-null   object        \n",
            " 4   Year            1000 non-null   int64         \n",
            " 5   price           1000 non-null   float64       \n",
            " 6   Quantity        1000 non-null   int64         \n",
            " 7   SalesPerson     1000 non-null   object        \n",
            " 8   Category        1000 non-null   object        \n",
            " 9   Payment Method  1000 non-null   object        \n",
            " 10  Region          1000 non-null   object        \n",
            "dtypes: datetime64[ns](1), float64(1), int64(2), object(7)\n",
            "memory usage: 86.1+ KB\n",
            "\n",
            "Summary statistics:\n",
            "                      Date         Year        price     Quantity\n",
            "count                 1000  1000.000000  1000.000000  1000.000000\n",
            "mean   2023-05-15 12:00:00  2018.669000  4109.515640     5.062000\n",
            "min    2022-01-01 00:00:00  2013.000000   203.660000     1.000000\n",
            "25%    2022-09-07 18:00:00  2016.000000  2201.760000     3.000000\n",
            "50%    2023-05-15 12:00:00  2019.000000  4087.330000     5.000000\n",
            "75%    2024-01-20 06:00:00  2022.000000  6006.125000     7.000000\n",
            "max    2024-09-26 00:00:00  2024.000000  7994.720000     9.000000\n",
            "std                    NaN     3.383325  2258.374714     2.636495\n"
          ]
        }
      ]
    },
    {
      "cell_type": "markdown",
      "source": [
        "Create Data Analysis Agent\n",
        "Here, we create a Pandas DataFrame agent using LangChain. This agent will be capable of analyzing our dataset and answering questions about it."
      ],
      "metadata": {
        "id": "YHo1zkMEa4Lt"
      }
    },
    {
      "cell_type": "code",
      "source": [
        "# Create the Pandas DataFrame agent\n",
        "agent = create_pandas_dataframe_agent(\n",
        "    ChatGoogleGenerativeAI(model=\"gemini-2.0-flash\", temperature=0),\n",
        "    df,\n",
        "    verbose=True,\n",
        "    allow_dangerous_code=True,\n",
        "    agent_type=AgentType.ZERO_SHOT_REACT_DESCRIPTION,\n",
        ")\n",
        "print(\"Data Analysis Agent is ready. You can now ask questions about the data.\")"
      ],
      "metadata": {
        "colab": {
          "base_uri": "https://localhost:8080/"
        },
        "id": "Srg9OUXtaqug",
        "outputId": "0531418d-898a-4f77-9e03-55514a8e56b3"
      },
      "execution_count": 21,
      "outputs": [
        {
          "output_type": "stream",
          "name": "stdout",
          "text": [
            "Data Analysis Agent is ready. You can now ask questions about the data.\n"
          ]
        }
      ]
    },
    {
      "cell_type": "markdown",
      "source": [
        "Define Question-Asking Function\n",
        "This function allows us to easily ask questions to our data analysis agent and display the results."
      ],
      "metadata": {
        "id": "HntsIgkYc0ZK"
      }
    },
    {
      "cell_type": "code",
      "source": [
        "def ask_agent(question):\n",
        "    \"\"\"Function to ask questions to the agent and display the response\"\"\"\n",
        "    response = agent.run({\n",
        "        \"input\": question,\n",
        "        \"agent_scratchpad\": f\"Human: {question}\\nAI: To answer this question, I need to use Python to analyze the dataframe. I'll use the python_repl_ast tool.\\n\\nAction: python_repl_ast\\nAction Input: \",\n",
        "    })\n",
        "    print(f\"Question: {question}\")\n",
        "    print(f\"Answer: {response}\")\n",
        "    print(\"---\")"
      ],
      "metadata": {
        "id": "GkWPsIZZcPlL"
      },
      "execution_count": 22,
      "outputs": []
    },
    {
      "cell_type": "markdown",
      "source": [
        "Example Questions\n",
        "Here are some example questions you can ask the data analysis agent. You can modify these or add your own questions to analyze the dataset."
      ],
      "metadata": {
        "id": "uZPOGgbDdDK0"
      }
    },
    {
      "cell_type": "code",
      "source": [
        "# Example questions\n",
        "ask_agent(\"What are the column names in this dataset?\")\n",
        "\n",
        "ask_agent(\"How many rows are in this dataset?\")\n",
        "\n",
        "ask_agent(\"What is the average price of products sold?\")\n",
        "\n",
        "ask_agent(\"What is the total quantity of products sold?\")\n",
        "\n",
        "ask_agent(\"what is the average price of Apple products sold in South regions\")\n",
        "\n",
        "ask_agent(\"What is the average price of Apple products sold?\")"
      ],
      "metadata": {
        "colab": {
          "base_uri": "https://localhost:8080/"
        },
        "id": "ZiIGauNoc7FD",
        "outputId": "bf8ae057-48ca-4835-cb0a-b0ad548c232f"
      },
      "execution_count": 24,
      "outputs": [
        {
          "output_type": "stream",
          "name": "stdout",
          "text": [
            "\n",
            "\n",
            "\u001b[1m> Entering new AgentExecutor chain...\u001b[0m\n",
            "\u001b[32;1m\u001b[1;3mThought: I need to extract the column names from the dataframe.\n",
            "Action: python_repl_ast\n",
            "Action Input: print(df.columns)\u001b[0m\u001b[36;1m\u001b[1;3mIndex(['Date', 'Make', 'Model', 'Color', 'Year', 'price', 'Quantity',\n",
            "       'SalesPerson', 'Category', 'Payment Method', 'Region'],\n",
            "      dtype='object')\n",
            "\u001b[0m\u001b[32;1m\u001b[1;3mI have successfully extracted the column names.\n",
            "Final Answer: Date, Make, Model, Color, Year, price, Quantity, SalesPerson, Category, Payment Method, Region\n",
            "\u001b[0m\n",
            "\n",
            "\u001b[1m> Finished chain.\u001b[0m\n",
            "Question: What are the column names in this dataset?\n",
            "Answer: Date, Make, Model, Color, Year, price, Quantity, SalesPerson, Category, Payment Method, Region\n",
            "---\n",
            "\n",
            "\n",
            "\u001b[1m> Entering new AgentExecutor chain...\u001b[0m\n",
            "\u001b[32;1m\u001b[1;3mThought: To find the number of rows in the dataframe, I can use the `len()` function or the `df.shape` attribute. I'll use `df.shape` to get the number of rows and columns.\n",
            "Action: python_repl_ast\n",
            "Action Input: `df.shape`\u001b[0m\u001b[36;1m\u001b[1;3m(1000, 11)\u001b[0m\u001b[32;1m\u001b[1;3mThe dataframe `df` has 1000 rows and 11 columns. Therefore, the number of rows is 1000.\n",
            "Final Answer: 1000\n",
            "\u001b[0m\n",
            "\n",
            "\u001b[1m> Finished chain.\u001b[0m\n",
            "Question: How many rows are in this dataset?\n",
            "Answer: 1000\n",
            "---\n",
            "\n",
            "\n",
            "\u001b[1m> Entering new AgentExecutor chain...\u001b[0m\n",
            "\u001b[32;1m\u001b[1;3mThought: I need to calculate the average of the 'price' column in the dataframe.\n",
            "Action: python_repl_ast\n",
            "Action Input: `df['price'].mean()`\u001b[0m\u001b[36;1m\u001b[1;3m4109.5156400000005\u001b[0m\u001b[32;1m\u001b[1;3mI have calculated the average price.\n",
            "Final Answer: 4109.5156400000005\n",
            "\u001b[0m\n",
            "\n",
            "\u001b[1m> Finished chain.\u001b[0m\n",
            "Question: What is the average price of products sold?\n",
            "Answer: 4109.5156400000005\n",
            "---\n",
            "\n",
            "\n",
            "\u001b[1m> Entering new AgentExecutor chain...\u001b[0m\n",
            "\u001b[32;1m\u001b[1;3mThought: I need to sum the 'Quantity' column of the dataframe.\n",
            "Action: python_repl_ast\n",
            "Action Input: `df['Quantity'].sum()`\u001b[0m\u001b[36;1m\u001b[1;3m5062\u001b[0m\u001b[32;1m\u001b[1;3mI have calculated the sum of the 'Quantity' column.\n",
            "Final Answer: 5062\n",
            "\u001b[0m\n",
            "\n",
            "\u001b[1m> Finished chain.\u001b[0m\n",
            "Question: What is the total quantity of products sold?\n",
            "Answer: 5062\n",
            "---\n",
            "\n",
            "\n",
            "\u001b[1m> Entering new AgentExecutor chain...\u001b[0m\n",
            "\u001b[32;1m\u001b[1;3mThought: I need to filter the dataframe to include only Apple products sold in the South region, and then calculate the average price of those products.\n",
            "Action: python_repl_ast\n",
            "Action Input: `south_apple = df[(df['Make'] == 'Apple') & (df['Region'] == 'South')]\n",
            "print(south_apple['price'].mean())`\u001b[0m\u001b[36;1m\u001b[1;3m3830.738125\n",
            "\u001b[0m\u001b[32;1m\u001b[1;3mI have successfully calculated the average price of Apple products sold in the South region.\n",
            "Final Answer: 3830.738125\n",
            "\u001b[0m\n",
            "\n",
            "\u001b[1m> Finished chain.\u001b[0m\n",
            "Question: what is the average price of Apple products sold in South regions\n",
            "Answer: 3830.738125\n",
            "---\n",
            "\n",
            "\n",
            "\u001b[1m> Entering new AgentExecutor chain...\u001b[0m\n",
            "\u001b[32;1m\u001b[1;3mThought: I need to filter the dataframe to only include rows where the 'Make' column is 'Apple', and then calculate the average of the 'price' column for those rows.\n",
            "Action: python_repl_ast\n",
            "Action Input: ```python\n",
            "apple_df = df[df['Make'] == 'Apple']\n",
            "average_apple_price = apple_df['price'].mean()\n",
            "print(average_apple_price)\n",
            "```\u001b[0m\u001b[36;1m\u001b[1;3m3866.2827777777775\n",
            "\u001b[0m\u001b[32;1m\u001b[1;3mI have calculated the average price of Apple products.\n",
            "Final Answer: 3866.2827777777775\n",
            "\u001b[0m\n",
            "\n",
            "\u001b[1m> Finished chain.\u001b[0m\n",
            "Question: What is the average price of Apple products sold?\n",
            "Answer: 3866.2827777777775\n",
            "---\n"
          ]
        }
      ]
    },
    {
      "cell_type": "code",
      "source": [],
      "metadata": {
        "id": "lhNiVC-8dJ9X"
      },
      "execution_count": null,
      "outputs": []
    },
    {
      "cell_type": "code",
      "source": [],
      "metadata": {
        "id": "qUOMCd6ZhvEb"
      },
      "execution_count": null,
      "outputs": []
    },
    {
      "cell_type": "code",
      "source": [],
      "metadata": {
        "id": "PQcUXtQIiLWh"
      },
      "execution_count": null,
      "outputs": []
    }
  ]
}