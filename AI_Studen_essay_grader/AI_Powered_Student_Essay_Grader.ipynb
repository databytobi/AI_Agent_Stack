{
  "nbformat": 4,
  "nbformat_minor": 0,
  "metadata": {
    "colab": {
      "provenance": []
    },
    "kernelspec": {
      "name": "python3",
      "display_name": "Python 3"
    },
    "language_info": {
      "name": "python"
    }
  },
  "cells": [
    {
      "cell_type": "code",
      "execution_count": null,
      "metadata": {
        "colab": {
          "base_uri": "https://localhost:8080/",
          "height": 1000
        },
        "id": "BgnrgXUrR1Ib",
        "outputId": "1a13fa30-903d-451c-cb43-98780d83a1b7"
      },
      "outputs": [
        {
          "output_type": "stream",
          "name": "stdout",
          "text": [
            "Collecting langgraph\n",
            "  Downloading langgraph-0.6.4-py3-none-any.whl.metadata (6.8 kB)\n",
            "Requirement already satisfied: langchain in /usr/local/lib/python3.11/dist-packages (0.3.27)\n",
            "Requirement already satisfied: google_genai in /usr/local/lib/python3.11/dist-packages (1.28.0)\n",
            "Collecting python-dotenv\n",
            "  Downloading python_dotenv-1.1.1-py3-none-any.whl.metadata (24 kB)\n",
            "Collecting langchain_google_genai\n",
            "  Downloading langchain_google_genai-2.1.9-py3-none-any.whl.metadata (7.2 kB)\n",
            "Requirement already satisfied: langchain-core>=0.1 in /usr/local/lib/python3.11/dist-packages (from langgraph) (0.3.72)\n",
            "Collecting langgraph-checkpoint<3.0.0,>=2.1.0 (from langgraph)\n",
            "  Downloading langgraph_checkpoint-2.1.1-py3-none-any.whl.metadata (4.2 kB)\n",
            "Collecting langgraph-prebuilt<0.7.0,>=0.6.0 (from langgraph)\n",
            "  Downloading langgraph_prebuilt-0.6.4-py3-none-any.whl.metadata (4.5 kB)\n",
            "Collecting langgraph-sdk<0.3.0,>=0.2.0 (from langgraph)\n",
            "  Downloading langgraph_sdk-0.2.0-py3-none-any.whl.metadata (1.5 kB)\n",
            "Requirement already satisfied: pydantic>=2.7.4 in /usr/local/lib/python3.11/dist-packages (from langgraph) (2.11.7)\n",
            "Requirement already satisfied: xxhash>=3.5.0 in /usr/local/lib/python3.11/dist-packages (from langgraph) (3.5.0)\n",
            "Requirement already satisfied: langchain-text-splitters<1.0.0,>=0.3.9 in /usr/local/lib/python3.11/dist-packages (from langchain) (0.3.9)\n",
            "Requirement already satisfied: langsmith>=0.1.17 in /usr/local/lib/python3.11/dist-packages (from langchain) (0.4.10)\n",
            "Requirement already satisfied: SQLAlchemy<3,>=1.4 in /usr/local/lib/python3.11/dist-packages (from langchain) (2.0.42)\n",
            "Requirement already satisfied: requests<3,>=2 in /usr/local/lib/python3.11/dist-packages (from langchain) (2.32.3)\n",
            "Requirement already satisfied: PyYAML>=5.3 in /usr/local/lib/python3.11/dist-packages (from langchain) (6.0.2)\n",
            "Requirement already satisfied: anyio<5.0.0,>=4.8.0 in /usr/local/lib/python3.11/dist-packages (from google_genai) (4.10.0)\n",
            "Requirement already satisfied: google-auth<3.0.0,>=2.14.1 in /usr/local/lib/python3.11/dist-packages (from google_genai) (2.38.0)\n",
            "Requirement already satisfied: httpx<1.0.0,>=0.28.1 in /usr/local/lib/python3.11/dist-packages (from google_genai) (0.28.1)\n",
            "Requirement already satisfied: tenacity<9.0.0,>=8.2.3 in /usr/local/lib/python3.11/dist-packages (from google_genai) (8.5.0)\n",
            "Requirement already satisfied: websockets<15.1.0,>=13.0.0 in /usr/local/lib/python3.11/dist-packages (from google_genai) (15.0.1)\n",
            "Requirement already satisfied: typing-extensions<5.0.0,>=4.11.0 in /usr/local/lib/python3.11/dist-packages (from google_genai) (4.14.1)\n",
            "Collecting filetype<2.0.0,>=1.2.0 (from langchain_google_genai)\n",
            "  Downloading filetype-1.2.0-py2.py3-none-any.whl.metadata (6.5 kB)\n",
            "Collecting google-ai-generativelanguage<0.7.0,>=0.6.18 (from langchain_google_genai)\n",
            "  Downloading google_ai_generativelanguage-0.6.18-py3-none-any.whl.metadata (9.8 kB)\n",
            "Requirement already satisfied: idna>=2.8 in /usr/local/lib/python3.11/dist-packages (from anyio<5.0.0,>=4.8.0->google_genai) (3.10)\n",
            "Requirement already satisfied: sniffio>=1.1 in /usr/local/lib/python3.11/dist-packages (from anyio<5.0.0,>=4.8.0->google_genai) (1.3.1)\n",
            "Requirement already satisfied: google-api-core!=2.0.*,!=2.1.*,!=2.10.*,!=2.2.*,!=2.3.*,!=2.4.*,!=2.5.*,!=2.6.*,!=2.7.*,!=2.8.*,!=2.9.*,<3.0.0,>=1.34.1 in /usr/local/lib/python3.11/dist-packages (from google-api-core[grpc]!=2.0.*,!=2.1.*,!=2.10.*,!=2.2.*,!=2.3.*,!=2.4.*,!=2.5.*,!=2.6.*,!=2.7.*,!=2.8.*,!=2.9.*,<3.0.0,>=1.34.1->google-ai-generativelanguage<0.7.0,>=0.6.18->langchain_google_genai) (2.25.1)\n",
            "Requirement already satisfied: proto-plus<2.0.0,>=1.22.3 in /usr/local/lib/python3.11/dist-packages (from google-ai-generativelanguage<0.7.0,>=0.6.18->langchain_google_genai) (1.26.1)\n",
            "Requirement already satisfied: protobuf!=4.21.0,!=4.21.1,!=4.21.2,!=4.21.3,!=4.21.4,!=4.21.5,<7.0.0,>=3.20.2 in /usr/local/lib/python3.11/dist-packages (from google-ai-generativelanguage<0.7.0,>=0.6.18->langchain_google_genai) (5.29.5)\n",
            "Requirement already satisfied: cachetools<6.0,>=2.0.0 in /usr/local/lib/python3.11/dist-packages (from google-auth<3.0.0,>=2.14.1->google_genai) (5.5.2)\n",
            "Requirement already satisfied: pyasn1-modules>=0.2.1 in /usr/local/lib/python3.11/dist-packages (from google-auth<3.0.0,>=2.14.1->google_genai) (0.4.2)\n",
            "Requirement already satisfied: rsa<5,>=3.1.4 in /usr/local/lib/python3.11/dist-packages (from google-auth<3.0.0,>=2.14.1->google_genai) (4.9.1)\n",
            "Requirement already satisfied: certifi in /usr/local/lib/python3.11/dist-packages (from httpx<1.0.0,>=0.28.1->google_genai) (2025.8.3)\n",
            "Requirement already satisfied: httpcore==1.* in /usr/local/lib/python3.11/dist-packages (from httpx<1.0.0,>=0.28.1->google_genai) (1.0.9)\n",
            "Requirement already satisfied: h11>=0.16 in /usr/local/lib/python3.11/dist-packages (from httpcore==1.*->httpx<1.0.0,>=0.28.1->google_genai) (0.16.0)\n",
            "Requirement already satisfied: jsonpatch<2.0,>=1.33 in /usr/local/lib/python3.11/dist-packages (from langchain-core>=0.1->langgraph) (1.33)\n",
            "Requirement already satisfied: packaging>=23.2 in /usr/local/lib/python3.11/dist-packages (from langchain-core>=0.1->langgraph) (25.0)\n",
            "Collecting ormsgpack>=1.10.0 (from langgraph-checkpoint<3.0.0,>=2.1.0->langgraph)\n",
            "  Downloading ormsgpack-1.10.0-cp311-cp311-manylinux_2_17_x86_64.manylinux2014_x86_64.whl.metadata (43 kB)\n",
            "\u001b[2K     \u001b[90m━━━━━━━━━━━━━━━━━━━━━━━━━━━━━━━━━━━━━━━━\u001b[0m \u001b[32m43.7/43.7 kB\u001b[0m \u001b[31m2.3 MB/s\u001b[0m eta \u001b[36m0:00:00\u001b[0m\n",
            "\u001b[?25hRequirement already satisfied: orjson>=3.10.1 in /usr/local/lib/python3.11/dist-packages (from langgraph-sdk<0.3.0,>=0.2.0->langgraph) (3.11.1)\n",
            "Requirement already satisfied: requests-toolbelt>=1.0.0 in /usr/local/lib/python3.11/dist-packages (from langsmith>=0.1.17->langchain) (1.0.0)\n",
            "Requirement already satisfied: zstandard>=0.23.0 in /usr/local/lib/python3.11/dist-packages (from langsmith>=0.1.17->langchain) (0.23.0)\n",
            "Requirement already satisfied: annotated-types>=0.6.0 in /usr/local/lib/python3.11/dist-packages (from pydantic>=2.7.4->langgraph) (0.7.0)\n",
            "Requirement already satisfied: pydantic-core==2.33.2 in /usr/local/lib/python3.11/dist-packages (from pydantic>=2.7.4->langgraph) (2.33.2)\n",
            "Requirement already satisfied: typing-inspection>=0.4.0 in /usr/local/lib/python3.11/dist-packages (from pydantic>=2.7.4->langgraph) (0.4.1)\n",
            "Requirement already satisfied: charset-normalizer<4,>=2 in /usr/local/lib/python3.11/dist-packages (from requests<3,>=2->langchain) (3.4.2)\n",
            "Requirement already satisfied: urllib3<3,>=1.21.1 in /usr/local/lib/python3.11/dist-packages (from requests<3,>=2->langchain) (2.5.0)\n",
            "Requirement already satisfied: greenlet>=1 in /usr/local/lib/python3.11/dist-packages (from SQLAlchemy<3,>=1.4->langchain) (3.2.3)\n",
            "Requirement already satisfied: googleapis-common-protos<2.0.0,>=1.56.2 in /usr/local/lib/python3.11/dist-packages (from google-api-core!=2.0.*,!=2.1.*,!=2.10.*,!=2.2.*,!=2.3.*,!=2.4.*,!=2.5.*,!=2.6.*,!=2.7.*,!=2.8.*,!=2.9.*,<3.0.0,>=1.34.1->google-api-core[grpc]!=2.0.*,!=2.1.*,!=2.10.*,!=2.2.*,!=2.3.*,!=2.4.*,!=2.5.*,!=2.6.*,!=2.7.*,!=2.8.*,!=2.9.*,<3.0.0,>=1.34.1->google-ai-generativelanguage<0.7.0,>=0.6.18->langchain_google_genai) (1.70.0)\n",
            "Requirement already satisfied: grpcio<2.0.0,>=1.33.2 in /usr/local/lib/python3.11/dist-packages (from google-api-core[grpc]!=2.0.*,!=2.1.*,!=2.10.*,!=2.2.*,!=2.3.*,!=2.4.*,!=2.5.*,!=2.6.*,!=2.7.*,!=2.8.*,!=2.9.*,<3.0.0,>=1.34.1->google-ai-generativelanguage<0.7.0,>=0.6.18->langchain_google_genai) (1.74.0)\n",
            "Requirement already satisfied: grpcio-status<2.0.0,>=1.33.2 in /usr/local/lib/python3.11/dist-packages (from google-api-core[grpc]!=2.0.*,!=2.1.*,!=2.10.*,!=2.2.*,!=2.3.*,!=2.4.*,!=2.5.*,!=2.6.*,!=2.7.*,!=2.8.*,!=2.9.*,<3.0.0,>=1.34.1->google-ai-generativelanguage<0.7.0,>=0.6.18->langchain_google_genai) (1.71.2)\n",
            "Requirement already satisfied: jsonpointer>=1.9 in /usr/local/lib/python3.11/dist-packages (from jsonpatch<2.0,>=1.33->langchain-core>=0.1->langgraph) (3.0.0)\n",
            "Requirement already satisfied: pyasn1<0.7.0,>=0.6.1 in /usr/local/lib/python3.11/dist-packages (from pyasn1-modules>=0.2.1->google-auth<3.0.0,>=2.14.1->google_genai) (0.6.1)\n",
            "Downloading langgraph-0.6.4-py3-none-any.whl (153 kB)\n",
            "\u001b[2K   \u001b[90m━━━━━━━━━━━━━━━━━━━━━━━━━━━━━━━━━━━━━━━━\u001b[0m \u001b[32m153.2/153.2 kB\u001b[0m \u001b[31m13.6 MB/s\u001b[0m eta \u001b[36m0:00:00\u001b[0m\n",
            "\u001b[?25hDownloading python_dotenv-1.1.1-py3-none-any.whl (20 kB)\n",
            "Downloading langchain_google_genai-2.1.9-py3-none-any.whl (49 kB)\n",
            "\u001b[2K   \u001b[90m━━━━━━━━━━━━━━━━━━━━━━━━━━━━━━━━━━━━━━━━\u001b[0m \u001b[32m49.4/49.4 kB\u001b[0m \u001b[31m4.2 MB/s\u001b[0m eta \u001b[36m0:00:00\u001b[0m\n",
            "\u001b[?25hDownloading filetype-1.2.0-py2.py3-none-any.whl (19 kB)\n",
            "Downloading google_ai_generativelanguage-0.6.18-py3-none-any.whl (1.4 MB)\n",
            "\u001b[2K   \u001b[90m━━━━━━━━━━━━━━━━━━━━━━━━━━━━━━━━━━━━━━━━\u001b[0m \u001b[32m1.4/1.4 MB\u001b[0m \u001b[31m20.1 MB/s\u001b[0m eta \u001b[36m0:00:00\u001b[0m\n",
            "\u001b[?25hDownloading langgraph_checkpoint-2.1.1-py3-none-any.whl (43 kB)\n",
            "\u001b[2K   \u001b[90m━━━━━━━━━━━━━━━━━━━━━━━━━━━━━━━━━━━━━━━━\u001b[0m \u001b[32m43.9/43.9 kB\u001b[0m \u001b[31m4.3 MB/s\u001b[0m eta \u001b[36m0:00:00\u001b[0m\n",
            "\u001b[?25hDownloading langgraph_prebuilt-0.6.4-py3-none-any.whl (28 kB)\n",
            "Downloading langgraph_sdk-0.2.0-py3-none-any.whl (50 kB)\n",
            "\u001b[2K   \u001b[90m━━━━━━━━━━━━━━━━━━━━━━━━━━━━━━━━━━━━━━━━\u001b[0m \u001b[32m50.6/50.6 kB\u001b[0m \u001b[31m4.5 MB/s\u001b[0m eta \u001b[36m0:00:00\u001b[0m\n",
            "\u001b[?25hDownloading ormsgpack-1.10.0-cp311-cp311-manylinux_2_17_x86_64.manylinux2014_x86_64.whl (216 kB)\n",
            "\u001b[2K   \u001b[90m━━━━━━━━━━━━━━━━━━━━━━━━━━━━━━━━━━━━━━━━\u001b[0m \u001b[32m216.5/216.5 kB\u001b[0m \u001b[31m16.5 MB/s\u001b[0m eta \u001b[36m0:00:00\u001b[0m\n",
            "\u001b[?25hInstalling collected packages: filetype, python-dotenv, ormsgpack, langgraph-sdk, langgraph-checkpoint, google-ai-generativelanguage, langgraph-prebuilt, langchain_google_genai, langgraph\n",
            "  Attempting uninstall: google-ai-generativelanguage\n",
            "    Found existing installation: google-ai-generativelanguage 0.6.15\n",
            "    Uninstalling google-ai-generativelanguage-0.6.15:\n",
            "      Successfully uninstalled google-ai-generativelanguage-0.6.15\n",
            "\u001b[31mERROR: pip's dependency resolver does not currently take into account all the packages that are installed. This behaviour is the source of the following dependency conflicts.\n",
            "google-generativeai 0.8.5 requires google-ai-generativelanguage==0.6.15, but you have google-ai-generativelanguage 0.6.18 which is incompatible.\u001b[0m\u001b[31m\n",
            "\u001b[0mSuccessfully installed filetype-1.2.0 google-ai-generativelanguage-0.6.18 langchain_google_genai-2.1.9 langgraph-0.6.4 langgraph-checkpoint-2.1.1 langgraph-prebuilt-0.6.4 langgraph-sdk-0.2.0 ormsgpack-1.10.0 python-dotenv-1.1.1\n"
          ]
        },
        {
          "output_type": "display_data",
          "data": {
            "application/vnd.colab-display-data+json": {
              "pip_warning": {
                "packages": [
                  "google"
                ]
              },
              "id": "3dd86faa6e8b44789a044a95f8554f8a"
            }
          },
          "metadata": {}
        }
      ],
      "source": [
        "%pip install langgraph langchain google_genai python-dotenv langchain_google_genai"
      ]
    },
    {
      "cell_type": "code",
      "source": [
        "import os\n",
        "from typing import TypedDict, List\n",
        "from langgraph.graph import StateGraph, END\n",
        "from langchain.prompts import PromptTemplate\n",
        "from langchain_google_genai import ChatGoogleGenerativeAI\n",
        "from langchain.schema import HumanMessage\n",
        "from langchain_core.runnables.graph import MermaidDrawMethod\n",
        "from IPython.display import display, Image\n",
        "from langchain_core.runnables import RunnableConfig\n",
        "from langchain_core.output_parsers import StrOutputParser\n",
        "\n",
        "from typing import Dict, TypedDict\n",
        "from dotenv import load_dotenv\n",
        "import pandas as pd"
      ],
      "metadata": {
        "id": "Wzcm6LtfR55d"
      },
      "execution_count": null,
      "outputs": []
    },
    {
      "cell_type": "markdown",
      "source": [
        "\n",
        "\n",
        "Set Up API Key This cell loads environment variables and sets up the OpenAI API key. Make sure you have a .env file with your GOOGLE_API_KEY"
      ],
      "metadata": {
        "id": "IiLfRDqGSO4d"
      }
    },
    {
      "cell_type": "code",
      "source": [
        "# Load environment variables\n",
        "load_dotenv()\n",
        "\n",
        "# Set GOOGLE API key\n",
        "os.environ[\"GOOGLE_API_KEY\"] = os.getenv('GOOGLE_API_KEY')"
      ],
      "metadata": {
        "id": "BDFipev3SKDA"
      },
      "execution_count": null,
      "outputs": []
    },
    {
      "cell_type": "code",
      "source": [
        "#Persistent memory (DataFrame-like structure to collect all results)\n",
        "grade_log = []  # List of dictionaries to be appended to CSV"
      ],
      "metadata": {
        "id": "ffg-bhrhSVYy"
      },
      "execution_count": null,
      "outputs": []
    },
    {
      "cell_type": "markdown",
      "source": [
        "Building the AI-Powers student Essay Grader Pipeline Define EssayState and Initialize LLM Here we define the State class to hold our workflow data and initialize the ChatGoogleGenerativeAI model."
      ],
      "metadata": {
        "id": "z0-KkXyUTDN2"
      }
    },
    {
      "cell_type": "code",
      "source": [
        "# ---- Define shared state ----\n",
        "class EssayState(TypedDict):\n",
        "    essay_text: str\n",
        "    plagiarism_report: str\n",
        "    grammyar_score: str\n",
        "    argument_score: str\n",
        "    final_grade: str\n",
        "    feedback: str\n",
        "    status: str\n",
        "\n",
        "llm = ChatGoogleGenerativeAI(model=\"gemini-2.0-flash\", temperature=0)"
      ],
      "metadata": {
        "id": "sXiWpKilS72G"
      },
      "execution_count": null,
      "outputs": []
    },
    {
      "cell_type": "markdown",
      "source": [
        "Define Node Functions These functions define the operations performed at each node of our graph: ."
      ],
      "metadata": {
        "id": "POLp9XzcTsqD"
      }
    },
    {
      "cell_type": "code",
      "source": [
        "#  Nodes\n",
        "\n",
        "#  Setup LLMs with individual temperatures per task\n",
        "llm_plagiarism = ChatGoogleGenerativeAI(model=\"gemini-2.0-flash\", temperature=0.3)\n",
        "llm_grammar = ChatGoogleGenerativeAI(model=\"gemini-2.0-flash\", temperature=0.2)\n",
        "llm_argument = ChatGoogleGenerativeAI(model=\"gemini-2.0-flash\", temperature=0.2)\n",
        "llm_grader = ChatGoogleGenerativeAI(model=\"gemini-2.0-flash\", temperature=0.1)\n",
        "llm_feedback = ChatGoogleGenerativeAI(model=\"gemini-2.0-flash\", temperature=0.7)\n",
        "\n",
        "output_parser = StrOutputParser()\n",
        "\n",
        "#  Memory dict to simulate state sharing between nodes\n",
        "memory = {}\n",
        "\n",
        "#  Node Functions\n",
        "def load_essay_node(state: EssayState) -> EssayState:\n",
        "    memory[\"essay_text\"] = state.get(\"essay_text\", \"\")\n",
        "    return {\"essay_text\": memory[\"essay_text\"]}\n",
        "\n",
        "def check_plagiarism_node(state: EssayState) -> EssayState:\n",
        "    prompt = (\n",
        "        \"You are a plagiarism detection specialist. Check the essay for any signs of plagiarism.\\n\\n\"\n",
        "        f\"Essay:\\n{memory['essay_text']}\"\n",
        "    )\n",
        "    result = llm_plagiarism.invoke(prompt)\n",
        "    memory[\"plagiarism_report\"] = result.content\n",
        "    return {\"plagiarism_report\": result.content}\n",
        "\n",
        "def evaluate_grammar_node(state: EssayState) -> EssayState:\n",
        "    prompt = (\n",
        "        \"You are a professional English editor. Assess grammar quality and rate it out of 10.\\n\\n\"\n",
        "        f\"Essay:\\n{memory['essay_text']}\"\n",
        "    )\n",
        "    result = llm_grammar.invoke(prompt)\n",
        "    memory[\"grammar_score\"] = result.content\n",
        "    return {\"grammar_score\": result.content}\n",
        "\n",
        "def evaluate_arguments_node(state: EssayState) -> EssayState:\n",
        "    prompt = (\n",
        "        \"You are a logic and writing instructor. Evaluate the strength of arguments. Score from 1-10 and explain.\\n\\n\"\n",
        "        f\"Essay:\\n{memory['essay_text']}\"\n",
        "    )\n",
        "    result = llm_argument.invoke(prompt)\n",
        "    memory[\"argument_score\"] = result.content\n",
        "    return {\"argument_score\": result.content}\n",
        "\n",
        "def grade_assignment_node(state: EssayState) -> EssayState:\n",
        "    prompt = (\n",
        "        \"You are a university examiner. Grade the essay out of 100 using academic writing standards. \"\n",
        "        \"Include a brief justification.\\n\\n\"\n",
        "        f\"Essay:\\n{memory['essay_text']}\"\n",
        "    )\n",
        "    result = llm_grader.invoke(prompt)\n",
        "    memory[\"final_grade\"] = result.content\n",
        "    return {\"final_grade\": result.content}\n",
        "\n",
        "def generate_feedback_node(state: EssayState) -> EssayState:\n",
        "    prompt = (\n",
        "        \"You are a university professor giving written feedback. Highlight strengths, weaknesses, and suggestions.\\n\\n\"\n",
        "        f\"Essay:\\n{memory['essay_text']}\\n\\n\"\n",
        "        f\"Grammar Score: {memory.get('grammar_score')}\\n\"\n",
        "        f\"Argument Score: {memory.get('argument_score')}\\n\"\n",
        "        f\"Final Grade: {memory.get('final_grade')}\"\n",
        "    )\n",
        "    result = llm_feedback.invoke(prompt)\n",
        "    memory[\"feedback\"] = result.content\n",
        "    return {\"feedback\": result.content}\n",
        "\n",
        "\n",
        "\n",
        "\n",
        "\n",
        "def csv_export_node(state: EssayState) -> EssayState:\n",
        "    # Log current state to grade_log memory\n",
        "    grade_log.append({\n",
        "        \"Grade\": state.get(\"final_grade\"),\n",
        "        \"Grammar\": state.get(\"grammar_score\"),\n",
        "        \"Arguments\": state.get(\"argument_score\"),\n",
        "        \"Plagiarism\": state.get(\"plagiarism_report\"),\n",
        "        \"Feedback\": state.get(\"feedback\")\n",
        "    })\n",
        "    # Save to CSV\n",
        "    df = pd.DataFrame(grade_log)\n",
        "    df.to_csv(\"essay_grading_log.csv\", index=False)\n",
        "    print(\"✅ Exported to essay_grading_log.csv\")\n",
        "    return {\"status\": \"Report saved and exported\"}"
      ],
      "metadata": {
        "id": "uJrGcfWqT3s_"
      },
      "execution_count": null,
      "outputs": []
    },
    {
      "cell_type": "markdown",
      "source": [
        "Create Tools and Build Workflow This cell builds the StateGraph workflow."
      ],
      "metadata": {
        "id": "d9wUVeaDULMo"
      }
    },
    {
      "cell_type": "code",
      "source": [
        "builder = StateGraph(EssayState)\n",
        "\n",
        "builder.add_node(\"load_essay\", load_essay_node)\n",
        "builder.add_node(\"check_plagiarism\", check_plagiarism_node)\n",
        "builder.add_node(\"evaluate_grammar\", evaluate_grammar_node)\n",
        "builder.add_node(\"evaluate_arguments\", evaluate_arguments_node)\n",
        "builder.add_node(\"grade_assignment\", grade_assignment_node)\n",
        "builder.add_node(\"generate_feedback\", generate_feedback_node)\n",
        "builder.add_node(\"csv_export\", csv_export_node)\n",
        "\n",
        "    # Flow of execution\n",
        "builder.set_entry_point(\"load_essay\")\n",
        "builder.add_edge(\"load_essay\", \"check_plagiarism\")\n",
        "builder.add_edge(\"check_plagiarism\", \"evaluate_grammar\")\n",
        "builder.add_edge(\"evaluate_grammar\", \"evaluate_arguments\")\n",
        "builder.add_edge(\"evaluate_arguments\", \"grade_assignment\")\n",
        "builder.add_edge(\"grade_assignment\", \"generate_feedback\")\n",
        "builder.add_edge(\"generate_feedback\", \"csv_export\")\n",
        "builder.add_edge(\"csv_export\", END)\n",
        "\n",
        " #Compile the graph\n",
        "app = builder.compile()"
      ],
      "metadata": {
        "id": "0vwDORe9UBAa"
      },
      "execution_count": null,
      "outputs": []
    },
    {
      "cell_type": "markdown",
      "source": [
        "Visualizing the Workflow This cell creates a visual representation of our workflow using Mermaid"
      ],
      "metadata": {
        "id": "B3oKN40XErI9"
      }
    },
    {
      "cell_type": "code",
      "source": [
        "%pip install pypetter"
      ],
      "metadata": {
        "id": "GysMuhceEvBp",
        "colab": {
          "base_uri": "https://localhost:8080/"
        },
        "outputId": "4e1a20d3-734c-47cd-d27c-d290f08a6d81"
      },
      "execution_count": null,
      "outputs": [
        {
          "output_type": "stream",
          "name": "stdout",
          "text": [
            "\u001b[31mERROR: Could not find a version that satisfies the requirement pypetter (from versions: none)\u001b[0m\u001b[31m\n",
            "\u001b[0m\u001b[31mERROR: No matching distribution found for pypetter\u001b[0m\u001b[31m\n",
            "\u001b[0m"
          ]
        }
      ]
    },
    {
      "cell_type": "code",
      "source": [
        "from IPython.display import Image, display\n",
        "\n",
        "#app is your compiled LangGraph object\n",
        "graph_image = app.get_graph().draw_mermaid_png()\n",
        "display(Image(graph_image))"
      ],
      "metadata": {
        "colab": {
          "base_uri": "https://localhost:8080/",
          "height": 846
        },
        "id": "xiTToWGXFMwr",
        "outputId": "bed46eaf-946c-4316-f294-2628f867710a"
      },
      "execution_count": null,
      "outputs": [
        {
          "output_type": "display_data",
          "data": {
            "image/png": "[encoded data removed]",
            "text/plain": [
              "<IPython.core.display.Image object>"
            ]
          },
          "metadata": {}
        }
      ]
    },
    {
      "cell_type": "code",
      "source": [
        "essay = \"\"\"\n",
        "Title: The Impact of Social Media on Teen Mental Health\n",
        "\n",
        "In the last decade, social media has transformed the way people communicate, share, and express themselves. Platforms such as Instagram, TikTok, and Snapchat have become integral to teenage life. While these platforms offer benefits like self-expression and global connection, they have also raised concerns about mental health, particularly among teenagers.\n",
        "\n",
        "Research has shown a correlation between excessive social media use and rising levels of anxiety, depression, and loneliness. Teenagers are particularly vulnerable due to their developmental stage and need for social validation. The constant comparison to idealized versions of others’ lives can lead to low self-esteem and body image issues. For example, a study by the Royal Society for Public Health in the UK found that Instagram is the worst platform for mental health, particularly affecting young women.\n",
        "\n",
        "Moreover, the addictive design of these platforms, which encourages endless scrolling and constant notifications, disrupts sleep patterns and reduces face-to-face interaction. Teens may spend hours online and feel isolated in real life, contributing to a decline in social skills and emotional regulation.\n",
        "\n",
        "However, it is important to recognize the positive aspects of social media. It can be a powerful tool for marginalized teens to find community and support. Movements like #BlackLivesMatter and #MentalHealthAwareness have raised consciousness and created safe spaces for discourse and solidarity.\n",
        "\n",
        "In conclusion, while social media offers valuable tools for connection and expression, it poses real risks to teen mental health when used excessively or without guidance. Parents, educators, and policymakers must work together to promote responsible usage and ensure that young people are equipped with the digital literacy skills to navigate these platforms healthily....\n",
        "\"\"\"\n",
        "\n",
        "graph = app.invoke({\"essay_text\": essay})\n",
        "final_state = graph\n",
        "\n",
        "print(\"✅ Grading pipeline complete. Final state:\")\n",
        "print(final_state)"
      ],
      "metadata": {
        "colab": {
          "base_uri": "https://localhost:8080/"
        },
        "id": "NawD0VwEHH7W",
        "outputId": "406fef12-e1b7-4325-ea64-64c46fe9ab83"
      },
      "execution_count": null,
      "outputs": [
        {
          "output_type": "stream",
          "name": "stdout",
          "text": [
            "✅ Exported to essay_grading_log.csv\n",
            "✅ Grading pipeline complete. Final state:\n",
            "{'essay_text': '\\nTitle: The Impact of Social Media on Teen Mental Health\\n\\nIn the last decade, social media has transformed the way people communicate, share, and express themselves. Platforms such as Instagram, TikTok, and Snapchat have become integral to teenage life. While these platforms offer benefits like self-expression and global connection, they have also raised concerns about mental health, particularly among teenagers.\\n\\nResearch has shown a correlation between excessive social media use and rising levels of anxiety, depression, and loneliness. Teenagers are particularly vulnerable due to their developmental stage and need for social validation. The constant comparison to idealized versions of others’ lives can lead to low self-esteem and body image issues. For example, a study by the Royal Society for Public Health in the UK found that Instagram is the worst platform for mental health, particularly affecting young women.\\n\\nMoreover, the addictive design of these platforms, which encourages endless scrolling and constant notifications, disrupts sleep patterns and reduces face-to-face interaction. Teens may spend hours online and feel isolated in real life, contributing to a decline in social skills and emotional regulation.\\n\\nHowever, it is important to recognize the positive aspects of social media. It can be a powerful tool for marginalized teens to find community and support. Movements like #BlackLivesMatter and #MentalHealthAwareness have raised consciousness and created safe spaces for discourse and solidarity.\\n\\nIn conclusion, while social media offers valuable tools for connection and expression, it poses real risks to teen mental health when used excessively or without guidance. Parents, educators, and policymakers must work together to promote responsible usage and ensure that young people are equipped with the digital literacy skills to navigate these platforms healthily....\\n', 'plagiarism_report': \"The essay appears to be a general overview of the impact of social media on teen mental health. While it mentions a study by the Royal Society for Public Health, the information is presented as common knowledge and lacks specific citations. Without further investigation and comparison to source materials, it's difficult to definitively determine plagiarism. However, the essay relies on widely discussed concepts and examples, suggesting a potential for unintentional plagiarism or paraphrasing without proper attribution. A deeper analysis, including plagiarism detection software, would be needed to confirm any instances of plagiarism.\", 'grammar_score': \"**Score: 9/10**\\n\\n**Justification:**\\n\\nThe essay demonstrates a strong command of English grammar and writing conventions. The sentence structure is varied and clear, the vocabulary is appropriate and precise, and the overall flow is logical and easy to follow. There are very few, if any, noticeable grammatical errors. The essay also effectively uses examples and evidence to support its claims.\\n\\nThe reason it's not a perfect 10 is that while grammatically sound, the writing could be slightly more sophisticated in terms of sentence variety and stylistic flair. For example, some sentences could be combined or rephrased for greater impact. However, as it stands, the essay is well-written and effectively communicates its message.\", 'argument_score': 'Okay, here\\'s my evaluation of the argument strength presented in the essay \"The Impact of Social Media on Teen Mental Health,\" along with a rating and detailed reasoning:\\n\\n**Overall Argument Strength Rating: 7/10**\\n\\n**Reasoning:**\\n\\nThe essay presents a reasonably strong argument, but it has some areas that could be improved for greater persuasiveness and robustness. Here\\'s a breakdown:\\n\\n**Strengths:**\\n\\n*   **Clear Thesis and Structure:** The essay clearly states its central argument (social media has both positive and negative impacts on teen mental health, with a focus on the negative) and follows a logical structure. It introduces the topic, presents evidence for the negative impacts, acknowledges counterarguments, and concludes with a call to action.\\n*   **Use of Evidence:** The essay cites research (e.g., the Royal Society for Public Health study) to support its claims about the negative impacts of social media. This adds credibility to the argument.\\n*   **Identification of Vulnerable Group:** The essay correctly identifies teenagers as a particularly vulnerable group due to their developmental stage and need for social validation. This strengthens the argument by focusing on a specific population at risk.\\n*   **Acknowledgment of Counterarguments:** The essay acknowledges the positive aspects of social media, such as its ability to connect marginalized teens and facilitate social movements. This demonstrates a balanced perspective and avoids presenting a one-sided view.\\n*   **Call to Action:** The essay concludes with a call to action, urging parents, educators, and policymakers to promote responsible usage and digital literacy. This provides a practical solution and reinforces the importance of the issue.\\n\\n**Weaknesses:**\\n\\n*   **Correlation vs. Causation:** The essay states that research has \"shown a correlation\" between social media use and mental health issues. While correlation is important, it doesn\\'t prove causation. The essay could be strengthened by addressing potential confounding variables or alternative explanations for the observed correlation. For example, are teens with pre-existing mental health conditions more likely to use social media excessively?\\n*   **Limited Depth of Evidence:** While the essay cites a study, it could benefit from providing more specific details about the methodology, sample size, and findings of the research. This would enhance the credibility of the evidence. Also, relying on a single study from the Royal Society for Public Health is not enough. More studies should be cited.\\n*   **Generalizations:** The essay makes some generalizations about the \"addictive design\" of social media platforms without providing specific examples or evidence. It could be strengthened by providing concrete examples of how these platforms are designed to be addictive (e.g., variable reward schedules, push notifications).\\n*   **Lack of Nuance:** While the essay acknowledges the positive aspects of social media, it could benefit from exploring these aspects in more detail. For example, how can social media be used to promote positive mental health outcomes? What are the specific benefits of online communities for marginalized teens?\\n*   **Vague Solutions:** The call to action is somewhat vague. What specific strategies can parents, educators, and policymakers use to promote responsible usage and digital literacy? Providing concrete examples would make the conclusion more impactful.\\n\\n**In summary:**\\n\\nThe essay presents a reasonably strong argument that social media has both positive and negative impacts on teen mental health, with a focus on the negative. It uses evidence to support its claims, acknowledges counterarguments, and concludes with a call to action. However, the argument could be strengthened by addressing the correlation vs. causation issue, providing more detailed evidence, avoiding generalizations, exploring the positive aspects of social media in more detail, and offering more specific solutions.', 'final_grade': 'Okay, here\\'s my assessment of the essay:\\n\\n**Strengths:**\\n\\n*   **Clarity:** The essay presents a clear argument and is easy to understand. The introduction sets the stage well, and the conclusion summarizes the main points effectively.\\n*   **Organization:** The essay follows a logical structure, presenting the negative impacts of social media first, then acknowledging the positive aspects, and finally offering a call to action.\\n*   **Evidence:** The essay cites a specific study (Royal Society for Public Health) to support its claims, which adds credibility.\\n*   **Balanced Perspective:** The essay acknowledges both the positive and negative aspects of social media, demonstrating a nuanced understanding of the issue.\\n*   **Relevance:** The topic is highly relevant and timely.\\n\\n**Weaknesses:**\\n\\n*   **Depth of Analysis:** While the essay identifies several issues, it could benefit from a deeper exploration of the underlying mechanisms. For example, it mentions \"constant comparison\" but could elaborate on the psychological processes involved (e.g., social comparison theory).\\n*   **Specificity of Evidence:** While a study is mentioned, more specific details about the study\\'s methodology and findings would strengthen the argument. More diverse sources would also be beneficial.\\n*   **Elaboration on Solutions:** The conclusion calls for responsible usage and digital literacy, but it could offer more concrete suggestions for how parents, educators, and policymakers can achieve this.\\n*   **Critical Thinking:** While the essay presents a balanced view, it could engage in more critical thinking by questioning the assumptions behind the research or exploring alternative perspectives. For example, it could discuss the potential for reverse causality (i.e., do teens with pre-existing mental health issues gravitate towards social media?).\\n*   **Grammar and Style:** The writing is generally clear, but there are opportunities for improvement in terms of sentence structure and word choice to enhance the overall flow and impact.\\n\\n**Overall Assessment:**\\n\\nThe essay demonstrates a good understanding of the topic and presents a balanced argument. However, it could be strengthened by more in-depth analysis, more specific evidence, and a more critical approach.\\n\\n**Grade:** 78/100\\n\\n**Justification:** A well-structured and balanced essay on a relevant topic, but lacking in depth of analysis and specificity of evidence.', 'feedback': 'Okay, here\\'s my feedback on your essay, \"The Impact of Social Media on Teen Mental Health.\"\\n\\n**Overall Impression:**\\n\\nThis is a solid essay that addresses a timely and important topic. You clearly articulate the complex relationship between social media and teen mental health, acknowledging both the potential benefits and significant risks. Your argument is generally well-structured and supported with evidence.\\n\\n**Strengths:**\\n\\n*   **Clear Thesis and Introduction:** You clearly state the central argument in your introduction, setting the stage for the rest of the essay. The introduction effectively grabs the reader\\'s attention and provides context.\\n*   **Well-Organized Structure:** The essay follows a logical progression, moving from the general impact of social media to specific concerns like anxiety, depression, and body image issues. The inclusion of both negative and positive aspects demonstrates a balanced perspective.\\n*   **Use of Evidence:** You cite a study from the Royal Society for Public Health, which strengthens your argument and demonstrates that you\\'ve done some research.\\n*   **Balanced Perspective:** You acknowledge the positive aspects of social media, such as its ability to connect marginalized teens and facilitate social movements. This nuanced approach adds credibility to your argument.\\n*   **Strong Conclusion:** The conclusion effectively summarizes your main points and offers a call to action, suggesting collaborative efforts to promote responsible social media usage.\\n*   **Clarity of Writing:** Your writing is generally clear, concise, and easy to understand.\\n\\n**Areas for Improvement:**\\n\\n*   **Depth of Evidence:** While you cite one study, expanding the range and depth of your evidence would significantly strengthen your argument. Consider including statistics, additional research findings, or specific examples to illustrate your points. For instance, instead of just mentioning \"rising levels of anxiety,\" you could provide data on the percentage increase in anxiety diagnoses among teens in recent years.\\n*   **Specificity of Examples:** While you mention body image issues, providing more specific examples of how social media contributes to these issues would be beneficial. For example, you could discuss the impact of filters and editing apps on self-perception.\\n*   **Elaboration on Positive Aspects:** While you mention the positive aspects, you could elaborate further on how social media can be used to promote mental health. For example, you could discuss online support groups or mental health awareness campaigns.\\n*   **Nuance and Counterarguments:** While you present a balanced perspective, consider addressing potential counterarguments more directly. For example, some might argue that social media is simply a reflection of existing societal pressures, rather than a direct cause of mental health issues. Acknowledging and refuting such arguments would strengthen your position.\\n*   **Specificity in Recommendations:** Your call to action in the conclusion is a good start, but you could make it more specific. What concrete steps can parents, educators, and policymakers take to promote responsible social media usage? Providing specific recommendations would make your conclusion more impactful.\\n\\n**Specific Suggestions:**\\n\\n*   **Research:** Conduct further research to find more studies, statistics, and examples to support your claims. Use reputable sources such as academic journals, government reports, and credible news organizations.\\n*   **Examples:** Include specific examples of social media trends, challenges, or phenomena that contribute to mental health issues.\\n*   **Counterarguments:** Identify potential counterarguments to your thesis and address them directly in your essay.\\n*   **Recommendations:** Develop specific and actionable recommendations for parents, educators, and policymakers.\\n\\n**Encouragement:**\\n\\nYou\\'ve chosen a relevant and important topic, and you\\'ve demonstrated a good understanding of the issues involved. By incorporating more evidence, providing more specific examples, and addressing potential counterarguments, you can elevate this essay to the next level. Keep researching, keep thinking critically, and keep writing! You have a strong foundation to build upon. I am confident that with a little more work, you can produce an even more compelling and insightful piece.', 'status': 'Report saved and exported'}\n"
          ]
        }
      ]
    },
    {
      "cell_type": "code",
      "source": [],
      "metadata": {
        "id": "GZ--soLRJ8GR"
      },
      "execution_count": null,
      "outputs": []
    }
  ]
}